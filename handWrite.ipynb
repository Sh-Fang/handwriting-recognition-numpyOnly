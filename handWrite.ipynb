{
  "cells": [
    {
      "cell_type": "code",
      "execution_count": 114,
      "metadata": {
        "id": "ZUwG7ospUqzN"
      },
      "outputs": [],
      "source": [
        "import numpy as np\n"
      ]
    },
    {
      "cell_type": "code",
      "execution_count": 115,
      "metadata": {},
      "outputs": [],
      "source": [
        "dimensions=[28*28, 10]    #第一个参数是图片的维度，第二个参数是output的维度"
      ]
    },
    {
      "cell_type": "code",
      "execution_count": 116,
      "metadata": {
        "id": "IPBxsuG-iqCb"
      },
      "outputs": [],
      "source": [
        "#定义激活函数\n",
        "def tanh(x):\n",
        "    return np.tanh(x)\n",
        "\n",
        "    \n",
        "def softmax(x):\n",
        "    exp = np.exp(x-x.max())   # x-x.max()的作用是防止指数爆炸，在经过相减运算后，不影响最后的结果\n",
        "    return exp/exp.sum()      #因为在代码中使用了x.max()，而普通数组是没有这样的max函数的，而np.array()有\n",
        "                              #所以在传参进softmax(x)时，要传进来np.array(x)"
      ]
    },
    {
      "cell_type": "code",
      "execution_count": 117,
      "metadata": {},
      "outputs": [],
      "source": [
        "#定义初始化参数的函数\n",
        "def init_parematers(input_dim, output_dim):  #参数为输入图片的维度和输出图片的维度\n",
        "    b0 = np.zeros(input_dim)   #b0为全零，大小为784*1\n",
        "    b1 = np.zeros(output_dim)  #b1为全零，大小为10*1\n",
        "    w1 = np.random.rand(input_dim, output_dim)  #w1为随机，大小为784*10\n",
        "    \n",
        "    init_parameters_b_w = [   #以字典的形式返回所有参数\n",
        "        {'b0':b0},\n",
        "        {'b1':b1, 'w1':w1}\n",
        "    ]\n",
        "    return init_parameters_b_w"
      ]
    },
    {
      "cell_type": "code",
      "execution_count": 118,
      "metadata": {},
      "outputs": [],
      "source": [
        "#预测手写函数\n",
        "def predect(flatten_img):    \n",
        "    parematers = init_parematers(dimensions[0], dimensions[1])   #获取初始化的参数\n",
        "    layer_0 = tanh(flatten_img + parematers[0]['b0'])           # l0 = tanh(data + b0)\n",
        "    layer_1 = softmax(np.dot(layer_0, parematers[1]['w1']) + parematers[1]['b1'])  #l1 = softmax(l0 * w1 + b1)\n",
        "    return layer_1   "
      ]
    },
    {
      "cell_type": "code",
      "execution_count": 120,
      "metadata": {},
      "outputs": [
        {
          "data": {
            "text/plain": [
              "2"
            ]
          },
          "execution_count": 120,
          "metadata": {},
          "output_type": "execute_result"
        }
      ],
      "source": [
        "predect(np.random.rand(784)).argmax()   #argxmax()函数用于返回其中最大值的位置，本例中最大值的位置就是预测的手写数字"
      ]
    }
  ],
  "metadata": {
    "colab": {
      "collapsed_sections": [],
      "name": "learning.ipynb",
      "provenance": []
    },
    "kernelspec": {
      "display_name": "Python 3",
      "name": "python3"
    },
    "language_info": {
      "codemirror_mode": {
        "name": "ipython",
        "version": 3
      },
      "file_extension": ".py",
      "mimetype": "text/x-python",
      "name": "python",
      "nbconvert_exporter": "python",
      "pygments_lexer": "ipython3",
      "version": "3.7.0"
    }
  },
  "nbformat": 4,
  "nbformat_minor": 0
}
